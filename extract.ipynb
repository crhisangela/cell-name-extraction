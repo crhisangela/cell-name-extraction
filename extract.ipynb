{
 "cells": [
  {
   "cell_type": "code",
   "execution_count": 9,
   "metadata": {},
   "outputs": [],
   "source": [
    "from pdfminer.high_level import extract_text\n",
    "import re\n",
    "import pandas as pd\n",
    "from collections import Counter"
   ]
  },
  {
   "cell_type": "code",
   "execution_count": 10,
   "metadata": {},
   "outputs": [
    {
     "name": "stdout",
     "output_type": "stream",
     "text": [
      "O conteúdo do arquivo artigos/art3.pdf foi salvo em texto_extraido.txt\n"
     ]
    }
   ],
   "source": [
    "def pdf_to_text(pdf_path, txt_path):\n",
    "    text = extract_text(pdf_path)\n",
    "    text = text.strip()\n",
    "    text = ' '.join(text.split())\n",
    "    text = text.lower()\n",
    "\n",
    "    with open(txt_path, \"w\", encoding=\"utf-8\") as txt_file:\n",
    "        txt_file.write(text) \n",
    "\n",
    "    print(f\"O conteúdo do arquivo {pdf_path} foi salvo em {txt_path}\")\n",
    "\n",
    "# Caminhos dos arquivos\n",
    "pdf_path = \"artigos/art3.pdf\"\n",
    "txt_path = \"texto_extraido.txt\"\n",
    "\n",
    "pdf_to_text(pdf_path, txt_path)\n",
    "\n",
    "def read_txt(caminho_arquivo):\n",
    "    with open(caminho_arquivo, 'r', encoding='utf-8') as arquivo:\n",
    "        return arquivo.read()\n",
    "\n",
    "text = read_txt(txt_path)"
   ]
  },
  {
   "cell_type": "code",
   "execution_count": 11,
   "metadata": {},
   "outputs": [
    {
     "name": "stdout",
     "output_type": "stream",
     "text": [
      "p c c p modulation of methylene blue photochemical properties based on adsorption at aqueous micelle interfaces helena c. junqueira, divinomar severino, luis g. dias, marcos s. gugliotti and mauricio s. baptista* departamento de bioquı´mica, iq-usp, av. prof. lineu prestes, 748, sa˜ o paulo, sp, brazil 05513-970. e-mail: baptista@iq.usp.br received 25th october 2001, accepted 12th march 2002 first published as an advance article on the web 26th april 2002 methylene blue (mb+) is a sensitizer tha\n"
     ]
    }
   ],
   "source": [
    "print(text[:500])"
   ]
  },
  {
   "cell_type": "code",
   "execution_count": 12,
   "metadata": {},
   "outputs": [
    {
     "data": {
      "text/html": [
       "<div>\n",
       "<style scoped>\n",
       "    .dataframe tbody tr th:only-of-type {\n",
       "        vertical-align: middle;\n",
       "    }\n",
       "\n",
       "    .dataframe tbody tr th {\n",
       "        vertical-align: top;\n",
       "    }\n",
       "\n",
       "    .dataframe thead th {\n",
       "        text-align: right;\n",
       "    }\n",
       "</style>\n",
       "<table border=\"1\" class=\"dataframe\">\n",
       "  <thead>\n",
       "    <tr style=\"text-align: right;\">\n",
       "      <th></th>\n",
       "      <th>Palavra</th>\n",
       "      <th>Frequência</th>\n",
       "    </tr>\n",
       "  </thead>\n",
       "  <tbody>\n",
       "    <tr>\n",
       "      <th>0</th>\n",
       "      <td>mb</td>\n",
       "      <td>4</td>\n",
       "    </tr>\n",
       "    <tr>\n",
       "      <th>1</th>\n",
       "      <td>surfactants</td>\n",
       "      <td>1</td>\n",
       "    </tr>\n",
       "    <tr>\n",
       "      <th>2</th>\n",
       "      <td>sds</td>\n",
       "      <td>3</td>\n",
       "    </tr>\n",
       "    <tr>\n",
       "      <th>3</th>\n",
       "      <td>monomers</td>\n",
       "      <td>2</td>\n",
       "    </tr>\n",
       "    <tr>\n",
       "      <th>4</th>\n",
       "      <td>3mb</td>\n",
       "      <td>1</td>\n",
       "    </tr>\n",
       "    <tr>\n",
       "      <th>5</th>\n",
       "      <td>oppositely</td>\n",
       "      <td>1</td>\n",
       "    </tr>\n",
       "    <tr>\n",
       "      <th>6</th>\n",
       "      <td>dimers</td>\n",
       "      <td>3</td>\n",
       "    </tr>\n",
       "    <tr>\n",
       "      <th>7</th>\n",
       "      <td>dimerization</td>\n",
       "      <td>1</td>\n",
       "    </tr>\n",
       "    <tr>\n",
       "      <th>8</th>\n",
       "      <td>mw</td>\n",
       "      <td>1</td>\n",
       "    </tr>\n",
       "  </tbody>\n",
       "</table>\n",
       "</div>"
      ],
      "text/plain": [
       "        Palavra  Frequência\n",
       "0            mb           4\n",
       "1   surfactants           1\n",
       "2           sds           3\n",
       "3      monomers           2\n",
       "4           3mb           1\n",
       "5    oppositely           1\n",
       "6        dimers           3\n",
       "7  dimerization           1\n",
       "8            mw           1"
      ]
     },
     "execution_count": 12,
     "metadata": {},
     "output_type": "execute_result"
    }
   ],
   "source": [
    "def extract_xxx_count(text, ignore_list=None):\n",
    "    # padrões regex\n",
    "    patterns = [\n",
    "        r'of\\s+(\\w+)\\s+observed',\n",
    "        r'properties of\\s+(\\w+)',\n",
    "        r'form of\\s+(\\w+)',\n",
    "        r'fluorescence for the\\s+(\\w+)',\n",
    "        r'spectr\\w*\\s+of\\s+(\\w+)',\n",
    "        r'into\\s+(\\w+)',\n",
    "        r'substituents of\\s+(\\w+)\\s+might be',\n",
    "        r'(\\w+)\\s+is a sensitizer',\n",
    "        r'concentrations of\\s+(\\w+)\\s+and',\n",
    "        r'the\\s+(\\w+)\\s+solution',\n",
    "        r'properties of\\s+(\\w+)\\s+as a',\n",
    "        r'[Ee]ffect of\\s+(\\w+)\\s+on the',\n",
    "        r'the\\s+(\\w+)\\s+equilibria',\n",
    "        r'complex\\s+(\\w+)\\s+was synthesized',\n",
    "        r'concentrations of\\s+(\\w+)',\n",
    "        r'the total\\s+(\\w+)\\s+concentrations'\n",
    "    ]\n",
    "    \n",
    "    matches = []\n",
    "    for pattern in patterns:\n",
    "        matches.extend(re.findall(pattern, text))  # Adiciona todas as correspondências encontradas\n",
    "    \n",
    "    if ignore_list:\n",
    "        matches = [word for word in matches if word.lower() not in ignore_list]\n",
    "\n",
    "    counter = Counter(matches)\n",
    "    df = pd.DataFrame(counter.items(), columns=['Palavra', 'Frequência'])\n",
    "    \n",
    "    return df\n",
    "\n",
    "ignore_list = ['the', 'all', 'a', 'multiple', 'an', 'both'] \n",
    "\n",
    "result_df = extract_xxx_count(text, ignore_list)\n",
    "result_df"
   ]
  }
 ],
 "metadata": {
  "kernelspec": {
   "display_name": "Python 3",
   "language": "python",
   "name": "python3"
  },
  "language_info": {
   "codemirror_mode": {
    "name": "ipython",
    "version": 3
   },
   "file_extension": ".py",
   "mimetype": "text/x-python",
   "name": "python",
   "nbconvert_exporter": "python",
   "pygments_lexer": "ipython3",
   "version": "3.10.10"
  }
 },
 "nbformat": 4,
 "nbformat_minor": 2
}
